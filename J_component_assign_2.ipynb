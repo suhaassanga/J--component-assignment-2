{
  "nbformat": 4,
  "nbformat_minor": 0,
  "metadata": {
    "colab": {
      "name": "J- component assign-2.ipynb",
      "provenance": []
    },
    "kernelspec": {
      "name": "python3",
      "display_name": "Python 3"
    },
    "language_info": {
      "name": "python"
    }
  },
  "cells": [
    {
      "cell_type": "code",
      "metadata": {
        "colab": {
          "base_uri": "https://localhost:8080/"
        },
        "id": "YB7uX7PI0ZBN",
        "outputId": "8fb4634c-8aca-4840-9f3e-0a0f2b1b2c21"
      },
      "source": [
        "import numpy as np\n",
        "Y=[54445,64445,57189,63218,55794,56957,57081,61111,67938,66029,83088,81363,93940]\n",
        "X=[3.2,3.2,3.7,3.9,4,4,4.1,4.5,4.9,5.1,5.3,5.9,6]\n",
        "y_pred=[]\n",
        "e=[]\n",
        "m=[1235,1500,1850,2000]\n",
        "c=[1900,1950,2000,2100]\n",
        "def linear(m,c):\n",
        "  summation=0\n",
        "  for i in range(0,len(X)):\n",
        "    y_pred.append(m*X[i]+c)\n",
        "    g=(Y[i]-y_pred[i])**2\n",
        "    summation=summation+g\n",
        "    e.append(g)\n",
        "    print('MEAN SQUARE ERROR IS :',np.mod(summation,len(x1)))\n",
        "    summation=0    \n",
        "for i in range(1):\n",
        "   linear(m[i],c[i])"
      ],
      "execution_count": 8,
      "outputs": [
        {
          "output_type": "stream",
          "name": "stdout",
          "text": [
            "MEAN SQUARE ERROR IS : 1.0\n",
            "MEAN SQUARE ERROR IS : 4.0\n",
            "MEAN SQUARE ERROR IS : 3.25\n",
            "MEAN SQUARE ERROR IS : 12.25\n",
            "MEAN SQUARE ERROR IS : 3\n",
            "MEAN SQUARE ERROR IS : 4\n",
            "MEAN SQUARE ERROR IS : 6.25\n",
            "MEAN SQUARE ERROR IS : 6.25\n",
            "MEAN SQUARE ERROR IS : 7.25\n",
            "MEAN SQUARE ERROR IS : 3.25\n",
            "MEAN SQUARE ERROR IS : 12.25\n",
            "MEAN SQUARE ERROR IS : 0.25\n",
            "MEAN SQUARE ERROR IS : 0\n"
          ]
        }
      ]
    },
    {
      "cell_type": "code",
      "metadata": {
        "id": "1Dzmd-yu0eOX"
      },
      "source": [
        ""
      ],
      "execution_count": null,
      "outputs": []
    }
  ]
}